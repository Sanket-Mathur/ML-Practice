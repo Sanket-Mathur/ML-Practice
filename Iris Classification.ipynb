{
 "cells": [
  {
   "cell_type": "markdown",
   "metadata": {},
   "source": [
    "# Importing Libraries"
   ]
  },
  {
   "cell_type": "code",
   "execution_count": 1,
   "metadata": {},
   "outputs": [],
   "source": [
    "import numpy as np\n",
    "import pandas as pd\n",
    "import matplotlib.pyplot as plt\n",
    "import seaborn as sns\n",
    "\n",
    "from sklearn.model_selection import train_test_split, GridSearchCV, cross_val_score\n",
    "from sklearn.preprocessing import LabelEncoder, StandardScaler\n",
    "from sklearn.metrics import classification_report \n",
    "\n",
    "from sklearn.linear_model import LogisticRegression\n",
    "from sklearn.naive_bayes import GaussianNB\n",
    "from sklearn.neighbors import KNeighborsClassifier\n",
    "from sklearn.svm import SVC\n",
    "from sklearn.tree import DecisionTreeClassifier\n",
    "from sklearn.ensemble import RandomForestClassifier, GradientBoostingClassifier\n",
    "from sklearn.neural_network import MLPClassifier"
   ]
  },
  {
   "cell_type": "markdown",
   "metadata": {},
   "source": [
    "# Loading and Analysing Dataset"
   ]
  },
  {
   "cell_type": "code",
   "execution_count": 2,
   "metadata": {},
   "outputs": [
    {
     "data": {
      "text/html": [
       "<div>\n",
       "<style scoped>\n",
       "    .dataframe tbody tr th:only-of-type {\n",
       "        vertical-align: middle;\n",
       "    }\n",
       "\n",
       "    .dataframe tbody tr th {\n",
       "        vertical-align: top;\n",
       "    }\n",
       "\n",
       "    .dataframe thead th {\n",
       "        text-align: right;\n",
       "    }\n",
       "</style>\n",
       "<table border=\"1\" class=\"dataframe\">\n",
       "  <thead>\n",
       "    <tr style=\"text-align: right;\">\n",
       "      <th></th>\n",
       "      <th>Id</th>\n",
       "      <th>SepalLengthCm</th>\n",
       "      <th>SepalWidthCm</th>\n",
       "      <th>PetalLengthCm</th>\n",
       "      <th>PetalWidthCm</th>\n",
       "      <th>Species</th>\n",
       "    </tr>\n",
       "  </thead>\n",
       "  <tbody>\n",
       "    <tr>\n",
       "      <th>0</th>\n",
       "      <td>1</td>\n",
       "      <td>5.1</td>\n",
       "      <td>3.5</td>\n",
       "      <td>1.4</td>\n",
       "      <td>0.2</td>\n",
       "      <td>Iris-setosa</td>\n",
       "    </tr>\n",
       "    <tr>\n",
       "      <th>1</th>\n",
       "      <td>2</td>\n",
       "      <td>4.9</td>\n",
       "      <td>3.0</td>\n",
       "      <td>1.4</td>\n",
       "      <td>0.2</td>\n",
       "      <td>Iris-setosa</td>\n",
       "    </tr>\n",
       "    <tr>\n",
       "      <th>2</th>\n",
       "      <td>3</td>\n",
       "      <td>4.7</td>\n",
       "      <td>3.2</td>\n",
       "      <td>1.3</td>\n",
       "      <td>0.2</td>\n",
       "      <td>Iris-setosa</td>\n",
       "    </tr>\n",
       "    <tr>\n",
       "      <th>3</th>\n",
       "      <td>4</td>\n",
       "      <td>4.6</td>\n",
       "      <td>3.1</td>\n",
       "      <td>1.5</td>\n",
       "      <td>0.2</td>\n",
       "      <td>Iris-setosa</td>\n",
       "    </tr>\n",
       "    <tr>\n",
       "      <th>4</th>\n",
       "      <td>5</td>\n",
       "      <td>5.0</td>\n",
       "      <td>3.6</td>\n",
       "      <td>1.4</td>\n",
       "      <td>0.2</td>\n",
       "      <td>Iris-setosa</td>\n",
       "    </tr>\n",
       "  </tbody>\n",
       "</table>\n",
       "</div>"
      ],
      "text/plain": [
       "   Id  SepalLengthCm  SepalWidthCm  PetalLengthCm  PetalWidthCm      Species\n",
       "0   1            5.1           3.5            1.4           0.2  Iris-setosa\n",
       "1   2            4.9           3.0            1.4           0.2  Iris-setosa\n",
       "2   3            4.7           3.2            1.3           0.2  Iris-setosa\n",
       "3   4            4.6           3.1            1.5           0.2  Iris-setosa\n",
       "4   5            5.0           3.6            1.4           0.2  Iris-setosa"
      ]
     },
     "execution_count": 2,
     "metadata": {},
     "output_type": "execute_result"
    }
   ],
   "source": [
    "# load the dataset\n",
    "\n",
    "data = pd.read_csv('Data/Iris.csv')\n",
    "data.head()"
   ]
  },
  {
   "cell_type": "code",
   "execution_count": 3,
   "metadata": {},
   "outputs": [
    {
     "data": {
      "text/plain": [
       "(150, 6)"
      ]
     },
     "execution_count": 3,
     "metadata": {},
     "output_type": "execute_result"
    }
   ],
   "source": [
    "data.shape"
   ]
  },
  {
   "cell_type": "code",
   "execution_count": 4,
   "metadata": {},
   "outputs": [
    {
     "name": "stdout",
     "output_type": "stream",
     "text": [
      "<class 'pandas.core.frame.DataFrame'>\n",
      "RangeIndex: 150 entries, 0 to 149\n",
      "Data columns (total 6 columns):\n",
      " #   Column         Non-Null Count  Dtype  \n",
      "---  ------         --------------  -----  \n",
      " 0   Id             150 non-null    int64  \n",
      " 1   SepalLengthCm  150 non-null    float64\n",
      " 2   SepalWidthCm   150 non-null    float64\n",
      " 3   PetalLengthCm  150 non-null    float64\n",
      " 4   PetalWidthCm   150 non-null    float64\n",
      " 5   Species        150 non-null    object \n",
      "dtypes: float64(4), int64(1), object(1)\n",
      "memory usage: 7.2+ KB\n"
     ]
    }
   ],
   "source": [
    "data.info()"
   ]
  },
  {
   "cell_type": "code",
   "execution_count": 5,
   "metadata": {},
   "outputs": [
    {
     "data": {
      "text/html": [
       "<div>\n",
       "<style scoped>\n",
       "    .dataframe tbody tr th:only-of-type {\n",
       "        vertical-align: middle;\n",
       "    }\n",
       "\n",
       "    .dataframe tbody tr th {\n",
       "        vertical-align: top;\n",
       "    }\n",
       "\n",
       "    .dataframe thead th {\n",
       "        text-align: right;\n",
       "    }\n",
       "</style>\n",
       "<table border=\"1\" class=\"dataframe\">\n",
       "  <thead>\n",
       "    <tr style=\"text-align: right;\">\n",
       "      <th></th>\n",
       "      <th>Id</th>\n",
       "      <th>SepalLengthCm</th>\n",
       "      <th>SepalWidthCm</th>\n",
       "      <th>PetalLengthCm</th>\n",
       "      <th>PetalWidthCm</th>\n",
       "    </tr>\n",
       "  </thead>\n",
       "  <tbody>\n",
       "    <tr>\n",
       "      <th>count</th>\n",
       "      <td>150.000000</td>\n",
       "      <td>150.000000</td>\n",
       "      <td>150.000000</td>\n",
       "      <td>150.000000</td>\n",
       "      <td>150.000000</td>\n",
       "    </tr>\n",
       "    <tr>\n",
       "      <th>mean</th>\n",
       "      <td>75.500000</td>\n",
       "      <td>5.843333</td>\n",
       "      <td>3.054000</td>\n",
       "      <td>3.758667</td>\n",
       "      <td>1.198667</td>\n",
       "    </tr>\n",
       "    <tr>\n",
       "      <th>std</th>\n",
       "      <td>43.445368</td>\n",
       "      <td>0.828066</td>\n",
       "      <td>0.433594</td>\n",
       "      <td>1.764420</td>\n",
       "      <td>0.763161</td>\n",
       "    </tr>\n",
       "    <tr>\n",
       "      <th>min</th>\n",
       "      <td>1.000000</td>\n",
       "      <td>4.300000</td>\n",
       "      <td>2.000000</td>\n",
       "      <td>1.000000</td>\n",
       "      <td>0.100000</td>\n",
       "    </tr>\n",
       "    <tr>\n",
       "      <th>25%</th>\n",
       "      <td>38.250000</td>\n",
       "      <td>5.100000</td>\n",
       "      <td>2.800000</td>\n",
       "      <td>1.600000</td>\n",
       "      <td>0.300000</td>\n",
       "    </tr>\n",
       "    <tr>\n",
       "      <th>50%</th>\n",
       "      <td>75.500000</td>\n",
       "      <td>5.800000</td>\n",
       "      <td>3.000000</td>\n",
       "      <td>4.350000</td>\n",
       "      <td>1.300000</td>\n",
       "    </tr>\n",
       "    <tr>\n",
       "      <th>75%</th>\n",
       "      <td>112.750000</td>\n",
       "      <td>6.400000</td>\n",
       "      <td>3.300000</td>\n",
       "      <td>5.100000</td>\n",
       "      <td>1.800000</td>\n",
       "    </tr>\n",
       "    <tr>\n",
       "      <th>max</th>\n",
       "      <td>150.000000</td>\n",
       "      <td>7.900000</td>\n",
       "      <td>4.400000</td>\n",
       "      <td>6.900000</td>\n",
       "      <td>2.500000</td>\n",
       "    </tr>\n",
       "  </tbody>\n",
       "</table>\n",
       "</div>"
      ],
      "text/plain": [
       "               Id  SepalLengthCm  SepalWidthCm  PetalLengthCm  PetalWidthCm\n",
       "count  150.000000     150.000000    150.000000     150.000000    150.000000\n",
       "mean    75.500000       5.843333      3.054000       3.758667      1.198667\n",
       "std     43.445368       0.828066      0.433594       1.764420      0.763161\n",
       "min      1.000000       4.300000      2.000000       1.000000      0.100000\n",
       "25%     38.250000       5.100000      2.800000       1.600000      0.300000\n",
       "50%     75.500000       5.800000      3.000000       4.350000      1.300000\n",
       "75%    112.750000       6.400000      3.300000       5.100000      1.800000\n",
       "max    150.000000       7.900000      4.400000       6.900000      2.500000"
      ]
     },
     "execution_count": 5,
     "metadata": {},
     "output_type": "execute_result"
    }
   ],
   "source": [
    "data.describe()"
   ]
  },
  {
   "cell_type": "markdown",
   "metadata": {},
   "source": [
    "# Data Visualization"
   ]
  },
  {
   "cell_type": "code",
   "execution_count": 6,
   "metadata": {},
   "outputs": [
    {
     "data": {
      "image/png": "[encoded data removed]",
      "text/plain": [
       "<Figure size 576x288 with 1 Axes>"
      ]
     },
     "metadata": {
      "needs_background": "light"
     },
     "output_type": "display_data"
    }
   ],
   "source": [
    "# Histogram based on count of each label in the dataset\n",
    "\n",
    "plt.figure(figsize=(8,4))\n",
    "sns.countplot(x = data['Species'])\n",
    "plt.tight_layout()"
   ]
  },
  {
   "cell_type": "code",
   "execution_count": 7,
   "metadata": {},
   "outputs": [
    {
     "data": {
      "image/png": "[encoded data removed]",
      "text/plain": [
       "<Figure size 1152x576 with 2 Axes>"
      ]
     },
     "metadata": {
      "needs_background": "light"
     },
     "output_type": "display_data"
    }
   ],
   "source": [
    "# Scatter plot based on dimension of Sepal and Petal\n",
    "\n",
    "fig, (ax0, ax1) = plt.subplots(1, 2, figsize=(16,8))\n",
    "sns.scatterplot(x = data['SepalLengthCm'], y = data['SepalWidthCm'], hue = data['Species'], ax=ax0)\n",
    "sns.scatterplot(x = data['PetalLengthCm'], y = data['PetalWidthCm'], hue = data['Species'], ax=ax1)\n",
    "plt.tight_layout()"
   ]
  },
  {
   "cell_type": "code",
   "execution_count": 8,
   "metadata": {},
   "outputs": [
    {
     "data": {
      "image/png": "[encoded data removed]",
      "text/plain": [
       "<Figure size 576x576 with 1 Axes>"
      ]
     },
     "metadata": {
      "needs_background": "light"
     },
     "output_type": "display_data"
    }
   ],
   "source": [
    "# box plot of different features\n",
    "\n",
    "plt.figure(figsize=(8,8))\n",
    "sns.boxplot(data = data.drop('Id', axis=1));"
   ]
  },
  {
   "cell_type": "markdown",
   "metadata": {},
   "source": [
    "# Data Preprocessing"
   ]
  },
  {
   "cell_type": "code",
   "execution_count": 9,
   "metadata": {},
   "outputs": [
    {
     "name": "stdout",
     "output_type": "stream",
     "text": [
      "(150, 4) (150,)\n"
     ]
    }
   ],
   "source": [
    "# abstraction of independent and dependent variables\n",
    "\n",
    "X, y = data.drop(['Id', 'Species'], axis=1), data['Species']\n",
    "print(X.shape, y.shape)"
   ]
  },
  {
   "cell_type": "code",
   "execution_count": 10,
   "metadata": {},
   "outputs": [],
   "source": [
    "# encoing categorical values\n",
    "\n",
    "enc = LabelEncoder()\n",
    "y = enc.fit_transform(y)"
   ]
  },
  {
   "cell_type": "code",
   "execution_count": 11,
   "metadata": {},
   "outputs": [
    {
     "name": "stdout",
     "output_type": "stream",
     "text": [
      "(120,) (30,)\n"
     ]
    }
   ],
   "source": [
    "# splitting the dataset into training and testing sets\n",
    "\n",
    "X_train, X_test, y_train, y_test = train_test_split(X, y, test_size=0.2, random_state=24)\n",
    "print(y_train.shape, y_test.shape)"
   ]
  },
  {
   "cell_type": "code",
   "execution_count": 12,
   "metadata": {},
   "outputs": [],
   "source": [
    "# feature scaling\n",
    "\n",
    "st = StandardScaler()\n",
    "X_train = st.fit_transform(X_train)\n",
    "X_test = st.transform(X_test)"
   ]
  },
  {
   "cell_type": "code",
   "execution_count": 13,
   "metadata": {},
   "outputs": [],
   "source": [
    "scores = pd.DataFrame(columns = ['Model','Training', 'Testing'])"
   ]
  },
  {
   "cell_type": "markdown",
   "metadata": {},
   "source": [
    "# 1. Logistic Regression"
   ]
  },
  {
   "cell_type": "code",
   "execution_count": 14,
   "metadata": {},
   "outputs": [
    {
     "name": "stdout",
     "output_type": "stream",
     "text": [
      "Score: 1.000\n",
      "Best Estimator: LogisticRegression(C=100)\n"
     ]
    }
   ],
   "source": [
    "# finding the best parameters using grid search\n",
    "\n",
    "param_grid = {'C': [0.001, 0.01, 0.1, 1, 10, 100]}\n",
    "grid = GridSearchCV(LogisticRegression(), param_grid = param_grid, cv=3).fit(X_train, y_train)\n",
    "print('Score: {:.3f}'.format(grid.score(X_test, y_test)))\n",
    "print('Best Estimator: {}'.format(grid.best_estimator_))"
   ]
  },
  {
   "cell_type": "code",
   "execution_count": 15,
   "metadata": {},
   "outputs": [
    {
     "data": {
      "image/png": "[encoded data removed]",
      "text/plain": [
       "<Figure size 288x288 with 1 Axes>"
      ]
     },
     "metadata": {
      "needs_background": "light"
     },
     "output_type": "display_data"
    }
   ],
   "source": [
    "# visualization of effect of the parameter\n",
    "\n",
    "fig = plt.figure(figsize=(4, 4))\n",
    "\n",
    "param = [0.001, 0.01, 0.1, 1, 10, 100]\n",
    "x = np.linspace(0,5,6)\n",
    "\n",
    "ax = fig.add_axes([1,1,1.1,1.1])\n",
    "ax.set_xticks(x)\n",
    "ax.set_xticklabels(param)\n",
    "\n",
    "test_score = np.array([])\n",
    "train_score = np.array([])\n",
    "for i in param:\n",
    "    clf = LogisticRegression(C=i).fit(X_train, y_train)\n",
    "    train_score = np.append(train_score, clf.score(X_train, y_train))\n",
    "    test_score = np.append(test_score, clf.score(X_test, y_test))\n",
    "\n",
    "ax.plot(x, train_score, label='Train Score')\n",
    "ax.plot(x, test_score, label='Test Score')\n",
    "ax.set_title('Logistic Regression')\n",
    "ax.legend();"
   ]
  },
  {
   "cell_type": "code",
   "execution_count": 16,
   "metadata": {},
   "outputs": [
    {
     "name": "stdout",
     "output_type": "stream",
     "text": [
      "Cross Validation Scores: 1.000 1.000 0.967 0.933 1.000\n"
     ]
    }
   ],
   "source": [
    "# checking score of data across different folds using cross_val_score\n",
    "\n",
    "cvs = cross_val_score(LogisticRegression(C=100, max_iter=1000), X, y, cv=5)\n",
    "print('Cross Validation Scores: {:.3f} {:.3f} {:.3f} {:.3f} {:.3f}'.format(*cvs))"
   ]
  },
  {
   "cell_type": "code",
   "execution_count": 17,
   "metadata": {},
   "outputs": [
    {
     "name": "stdout",
     "output_type": "stream",
     "text": [
      "Training Score: 0.983\n",
      "Testing Score: 1.0\n"
     ]
    }
   ],
   "source": [
    "# fitting the training set in the model and appending the scores to the DataFrame\n",
    "\n",
    "clf = LogisticRegression(C=100).fit(X_train, y_train)\n",
    "\n",
    "training_s = np.round(clf.score(X_train, y_train), 3)\n",
    "testing_s = np.round(clf.score(X_test, y_test), 3)\n",
    "\n",
    "print('Training Score: {}'.format(training_s))\n",
    "print('Testing Score: {}'.format(testing_s))\n",
    "\n",
    "scores = scores.append({'Model':'LogisticRegression','Training':training_s,'Testing':testing_s}, ignore_index=True)"
   ]
  },
  {
   "cell_type": "code",
   "execution_count": 18,
   "metadata": {},
   "outputs": [
    {
     "name": "stdout",
     "output_type": "stream",
     "text": [
      "              precision    recall  f1-score   support\n",
      "\n",
      "           0       1.00      1.00      1.00        10\n",
      "           1       1.00      1.00      1.00         4\n",
      "           2       1.00      1.00      1.00        16\n",
      "\n",
      "    accuracy                           1.00        30\n",
      "   macro avg       1.00      1.00      1.00        30\n",
      "weighted avg       1.00      1.00      1.00        30\n",
      "\n"
     ]
    }
   ],
   "source": [
    "# classification report of the model\n",
    "\n",
    "print(classification_report(y_test, clf.predict(X_test)))"
   ]
  },
  {
   "cell_type": "markdown",
   "metadata": {},
   "source": [
    "# 2. Gaussian Naive Bayes"
   ]
  },
  {
   "cell_type": "code",
   "execution_count": 19,
   "metadata": {},
   "outputs": [
    {
     "name": "stdout",
     "output_type": "stream",
     "text": [
      "Training Score: 0.95\n",
      "Testing Score: 1.0\n"
     ]
    }
   ],
   "source": [
    "# fitting the training set in the model and appending the scores to the DataFrame\n",
    "\n",
    "clf = GaussianNB().fit(X_train, y_train)\n",
    "\n",
    "training_s = np.round(clf.score(X_train, y_train), 3)\n",
    "testing_s = np.round(clf.score(X_test, y_test), 3)\n",
    "\n",
    "print('Training Score: {}'.format(training_s))\n",
    "print('Testing Score: {}'.format(testing_s))\n",
    "\n",
    "scores = scores.append({'Model':'GaussianNB','Training':training_s,'Testing':testing_s}, ignore_index=True)"
   ]
  },
  {
   "cell_type": "code",
   "execution_count": 20,
   "metadata": {},
   "outputs": [
    {
     "name": "stdout",
     "output_type": "stream",
     "text": [
      "              precision    recall  f1-score   support\n",
      "\n",
      "           0       1.00      1.00      1.00        10\n",
      "           1       1.00      1.00      1.00         4\n",
      "           2       1.00      1.00      1.00        16\n",
      "\n",
      "    accuracy                           1.00        30\n",
      "   macro avg       1.00      1.00      1.00        30\n",
      "weighted avg       1.00      1.00      1.00        30\n",
      "\n"
     ]
    }
   ],
   "source": [
    "# classification report of the model\n",
    "\n",
    "print(classification_report(y_test, clf.predict(X_test)))"
   ]
  },
  {
   "cell_type": "markdown",
   "metadata": {},
   "source": [
    "# 3. K-Neighbors Classifier"
   ]
  },
  {
   "cell_type": "code",
   "execution_count": 21,
   "metadata": {},
   "outputs": [
    {
     "name": "stdout",
     "output_type": "stream",
     "text": [
      "Score: 0.967\n",
      "Best Estimator: KNeighborsClassifier(n_neighbors=7)\n"
     ]
    }
   ],
   "source": [
    "# finding the best parameters using grid search\n",
    "\n",
    "param_grid = {'n_neighbors': [1, 2, 3, 4, 5, 6, 7, 8, 9, 10]}\n",
    "grid = GridSearchCV(KNeighborsClassifier(), param_grid = param_grid, cv=3).fit(X_train, y_train)\n",
    "print('Score: {:.3f}'.format(grid.score(X_test, y_test)))\n",
    "print('Best Estimator: {}'.format(grid.best_estimator_))"
   ]
  },
  {
   "cell_type": "code",
   "execution_count": 22,
   "metadata": {},
   "outputs": [
    {
     "data": {
      "image/png": "[encoded data removed]",
      "text/plain": [
       "<Figure size 288x288 with 1 Axes>"
      ]
     },
     "metadata": {
      "needs_background": "light"
     },
     "output_type": "display_data"
    }
   ],
   "source": [
    "# visualization of effect of the parameter\n",
    "\n",
    "fig = plt.figure(figsize=(4, 4))\n",
    "\n",
    "param = [1, 2, 3, 4, 5, 6, 7, 8, 9, 10]\n",
    "x = np.linspace(0,9,10)\n",
    "\n",
    "ax = fig.add_axes([1,1,1.1,1.1])\n",
    "ax.set_xticks(x)\n",
    "ax.set_xticklabels(param)\n",
    "\n",
    "test_score = np.array([])\n",
    "train_score = np.array([])\n",
    "for i in param:\n",
    "    clf = KNeighborsClassifier(n_neighbors=i).fit(X_train, y_train)\n",
    "    train_score = np.append(train_score, clf.score(X_train, y_train))\n",
    "    test_score = np.append(test_score, clf.score(X_test, y_test))\n",
    "\n",
    "ax.plot(x, train_score, label='Train Score')\n",
    "ax.plot(x, test_score, label='Test Score')\n",
    "ax.set_title('K-Neighbors Classifier')\n",
    "ax.legend();"
   ]
  },
  {
   "cell_type": "code",
   "execution_count": 23,
   "metadata": {},
   "outputs": [
    {
     "name": "stdout",
     "output_type": "stream",
     "text": [
      "Cross Validation Scores: 0.967 1.000 0.967 0.967 1.000\n"
     ]
    }
   ],
   "source": [
    "# checking score of data across different folds using cross_val_score\n",
    "\n",
    "cvs = cross_val_score(KNeighborsClassifier(n_neighbors=7), X, y, cv=5)\n",
    "print('Cross Validation Scores: {:.3f} {:.3f} {:.3f} {:.3f} {:.3f}'.format(*cvs))"
   ]
  },
  {
   "cell_type": "code",
   "execution_count": 24,
   "metadata": {},
   "outputs": [
    {
     "name": "stdout",
     "output_type": "stream",
     "text": [
      "Training Score: 0.967\n",
      "Testing Score: 0.967\n"
     ]
    }
   ],
   "source": [
    "# fitting the training set in the model and appending the scores to the DataFrame\n",
    "\n",
    "clf = KNeighborsClassifier(n_neighbors=7).fit(X_train, y_train)\n",
    "\n",
    "training_s = np.round(clf.score(X_train, y_train), 3)\n",
    "testing_s = np.round(clf.score(X_test, y_test), 3)\n",
    "\n",
    "print('Training Score: {}'.format(training_s))\n",
    "print('Testing Score: {}'.format(testing_s))\n",
    "\n",
    "scores = scores.append({'Model':'KNeighborsClassifier','Training':training_s,'Testing':testing_s}, ignore_index=True)"
   ]
  },
  {
   "cell_type": "code",
   "execution_count": 25,
   "metadata": {},
   "outputs": [
    {
     "name": "stdout",
     "output_type": "stream",
     "text": [
      "              precision    recall  f1-score   support\n",
      "\n",
      "           0       1.00      1.00      1.00        10\n",
      "           1       1.00      0.75      0.86         4\n",
      "           2       0.94      1.00      0.97        16\n",
      "\n",
      "    accuracy                           0.97        30\n",
      "   macro avg       0.98      0.92      0.94        30\n",
      "weighted avg       0.97      0.97      0.96        30\n",
      "\n"
     ]
    }
   ],
   "source": [
    "# classification report of the model\n",
    "\n",
    "print(classification_report(y_test, clf.predict(X_test)))"
   ]
  },
  {
   "cell_type": "markdown",
   "metadata": {},
   "source": [
    "# 4. Support Vector Classifier"
   ]
  },
  {
   "cell_type": "code",
   "execution_count": 26,
   "metadata": {},
   "outputs": [
    {
     "name": "stdout",
     "output_type": "stream",
     "text": [
      "Score: 0.967\n",
      "Best Estimator: SVC(C=1, gamma=0.01, kernel='linear')\n"
     ]
    }
   ],
   "source": [
    "# finding the best parameters using grid search\n",
    "\n",
    "param_grid = {'C': [0.01, 0.1, 1, 10, 100], 'gamma': [0.01, 0.1, 1, 10, 100], 'kernel':['linear', 'rbf', 'poly']}\n",
    "grid = GridSearchCV(SVC(), param_grid = param_grid, cv=3).fit(X_train, y_train)\n",
    "print('Score: {:.3f}'.format(grid.score(X_test, y_test)))\n",
    "print('Best Estimator: {}'.format(grid.best_estimator_))"
   ]
  },
  {
   "cell_type": "code",
   "execution_count": 27,
   "metadata": {},
   "outputs": [
    {
     "name": "stdout",
     "output_type": "stream",
     "text": [
      "Cross Validation Scores: 0.967 1.000 0.967 0.967 1.000\n"
     ]
    }
   ],
   "source": [
    "# checking score of data across different folds using cross_val_score\n",
    "\n",
    "cvs = cross_val_score(SVC(C=1, gamma=0.01, kernel='linear'), X, y, cv=5)\n",
    "print('Cross Validation Scores: {:.3f} {:.3f} {:.3f} {:.3f} {:.3f}'.format(*cvs))"
   ]
  },
  {
   "cell_type": "code",
   "execution_count": 28,
   "metadata": {},
   "outputs": [
    {
     "name": "stdout",
     "output_type": "stream",
     "text": [
      "Training Score: 0.958\n",
      "Testing Score: 0.967\n"
     ]
    }
   ],
   "source": [
    "# fitting the training set in the model and appending the scores to the DataFrame\n",
    "\n",
    "clf = SVC(C=1, gamma=0.01, kernel='linear').fit(X_train, y_train)\n",
    "\n",
    "training_s = np.round(clf.score(X_train, y_train), 3)\n",
    "testing_s = np.round(clf.score(X_test, y_test), 3)\n",
    "\n",
    "print('Training Score: {}'.format(training_s))\n",
    "print('Testing Score: {}'.format(testing_s))\n",
    "\n",
    "scores = scores.append({'Model':'SVC','Training':training_s,'Testing':testing_s}, ignore_index=True)"
   ]
  },
  {
   "cell_type": "code",
   "execution_count": 29,
   "metadata": {},
   "outputs": [
    {
     "name": "stdout",
     "output_type": "stream",
     "text": [
      "              precision    recall  f1-score   support\n",
      "\n",
      "           0       1.00      1.00      1.00        10\n",
      "           1       1.00      0.75      0.86         4\n",
      "           2       0.94      1.00      0.97        16\n",
      "\n",
      "    accuracy                           0.97        30\n",
      "   macro avg       0.98      0.92      0.94        30\n",
      "weighted avg       0.97      0.97      0.96        30\n",
      "\n"
     ]
    }
   ],
   "source": [
    "# classification report of the model\n",
    "\n",
    "print(classification_report(y_test, clf.predict(X_test)))"
   ]
  },
  {
   "cell_type": "markdown",
   "metadata": {},
   "source": [
    "# 5. Decision Tree Classifier"
   ]
  },
  {
   "cell_type": "code",
   "execution_count": 30,
   "metadata": {},
   "outputs": [
    {
     "name": "stdout",
     "output_type": "stream",
     "text": [
      "Score: 0.967\n",
      "Best Estimator: DecisionTreeClassifier(max_depth=2)\n"
     ]
    }
   ],
   "source": [
    "# finding the best parameters using grid search\n",
    "\n",
    "param_grid = {'max_depth': [1, 2, 3, 4, 5, 6, 7, 8, 9, 10]}\n",
    "grid = GridSearchCV(DecisionTreeClassifier(), param_grid = param_grid, cv=3).fit(X_train, y_train)\n",
    "print('Score: {:.3f}'.format(grid.score(X_test, y_test)))\n",
    "print('Best Estimator: {}'.format(grid.best_estimator_))"
   ]
  },
  {
   "cell_type": "code",
   "execution_count": 31,
   "metadata": {},
   "outputs": [
    {
     "data": {
      "image/png": "[encoded data removed]",
      "text/plain": [
       "<Figure size 288x288 with 1 Axes>"
      ]
     },
     "metadata": {
      "needs_background": "light"
     },
     "output_type": "display_data"
    }
   ],
   "source": [
    "# visualization of effect of the parameter\n",
    "\n",
    "fig = plt.figure(figsize=(4, 4))\n",
    "\n",
    "param = [1, 2, 3, 4, 5, 6, 7, 8, 9, 10]\n",
    "x = np.linspace(0,9,10)\n",
    "\n",
    "ax = fig.add_axes([1,1,1.1,1.1])\n",
    "ax.set_xticks(x)\n",
    "ax.set_xticklabels(param)\n",
    "\n",
    "test_score = np.array([])\n",
    "train_score = np.array([])\n",
    "for i in param:\n",
    "    clf = DecisionTreeClassifier(max_depth=i).fit(X_train, y_train)\n",
    "    train_score = np.append(train_score, clf.score(X_train, y_train))\n",
    "    test_score = np.append(test_score, clf.score(X_test, y_test))\n",
    "\n",
    "ax.plot(x, train_score, label='Train Score')\n",
    "ax.plot(x, test_score, label='Test Score')\n",
    "ax.set_title('Decision Tree Classifier')\n",
    "ax.legend();"
   ]
  },
  {
   "cell_type": "code",
   "execution_count": 32,
   "metadata": {},
   "outputs": [
    {
     "name": "stdout",
     "output_type": "stream",
     "text": [
      "Cross Validation Scores: 0.933 0.967 0.900 0.867 1.000\n"
     ]
    }
   ],
   "source": [
    "# checking score of data across different folds using cross_val_score\n",
    "\n",
    "cvs = cross_val_score(DecisionTreeClassifier(max_depth=2), X, y, cv=5)\n",
    "print('Cross Validation Scores: {:.3f} {:.3f} {:.3f} {:.3f} {:.3f}'.format(*cvs))"
   ]
  },
  {
   "cell_type": "code",
   "execution_count": 33,
   "metadata": {},
   "outputs": [
    {
     "name": "stdout",
     "output_type": "stream",
     "text": [
      "Training Score: 0.95\n",
      "Testing Score: 0.967\n"
     ]
    }
   ],
   "source": [
    "# fitting the training set in the model and appending the scores to the DataFrame\n",
    "\n",
    "clf = DecisionTreeClassifier(max_depth=2).fit(X_train, y_train)\n",
    "\n",
    "training_s = np.round(clf.score(X_train, y_train), 3)\n",
    "testing_s = np.round(clf.score(X_test, y_test), 3)\n",
    "\n",
    "print('Training Score: {}'.format(training_s))\n",
    "print('Testing Score: {}'.format(testing_s))\n",
    "\n",
    "scores = scores.append({'Model':'DecisionTreeClassifier','Training':training_s,'Testing':testing_s}, ignore_index=True)"
   ]
  },
  {
   "cell_type": "code",
   "execution_count": 34,
   "metadata": {},
   "outputs": [
    {
     "name": "stdout",
     "output_type": "stream",
     "text": [
      "              precision    recall  f1-score   support\n",
      "\n",
      "           0       1.00      1.00      1.00        10\n",
      "           1       1.00      0.75      0.86         4\n",
      "           2       0.94      1.00      0.97        16\n",
      "\n",
      "    accuracy                           0.97        30\n",
      "   macro avg       0.98      0.92      0.94        30\n",
      "weighted avg       0.97      0.97      0.96        30\n",
      "\n"
     ]
    }
   ],
   "source": [
    "# classification report of the model\n",
    "\n",
    "print(classification_report(y_test, clf.predict(X_test)))"
   ]
  },
  {
   "cell_type": "markdown",
   "metadata": {},
   "source": [
    "# 6. Random Forest Classifier"
   ]
  },
  {
   "cell_type": "code",
   "execution_count": 35,
   "metadata": {},
   "outputs": [
    {
     "name": "stdout",
     "output_type": "stream",
     "text": [
      "Score: 0.967\n",
      "Best Estimator: RandomForestClassifier(max_depth=9)\n"
     ]
    }
   ],
   "source": [
    "# finding the best parameters using grid search\n",
    "\n",
    "param_grid = {'max_depth': [1, 2, 3, 4, 5, 6, 7, 8, 9, 10]}\n",
    "grid = GridSearchCV(RandomForestClassifier(), param_grid = param_grid, cv=5).fit(X_train, y_train)\n",
    "print('Score: {:.3f}'.format(grid.score(X_test, y_test)))\n",
    "print('Best Estimator: {}'.format(grid.best_estimator_))"
   ]
  },
  {
   "cell_type": "code",
   "execution_count": 36,
   "metadata": {},
   "outputs": [
    {
     "data": {
      "image/png": "[encoded data removed]",
      "text/plain": [
       "<Figure size 288x288 with 1 Axes>"
      ]
     },
     "metadata": {
      "needs_background": "light"
     },
     "output_type": "display_data"
    }
   ],
   "source": [
    "# visualization of effect of the parameter\n",
    "\n",
    "fig = plt.figure(figsize=(4, 4))\n",
    "\n",
    "param = [1, 2, 3, 4, 5, 6, 7, 8, 9, 10]\n",
    "x = np.linspace(0,9,10)\n",
    "\n",
    "ax = fig.add_axes([1,1,1.1,1.1])\n",
    "ax.set_xticks(x)\n",
    "ax.set_xticklabels(param)\n",
    "\n",
    "test_score = np.array([])\n",
    "train_score = np.array([])\n",
    "for i in param:\n",
    "    clf = RandomForestClassifier(max_depth=i).fit(X_train, y_train)\n",
    "    train_score = np.append(train_score, clf.score(X_train, y_train))\n",
    "    test_score = np.append(test_score, clf.score(X_test, y_test))\n",
    "\n",
    "ax.plot(x, train_score, label='Train Score')\n",
    "ax.plot(x, test_score, label='Test Score')\n",
    "ax.set_title('Random Forest Classifier')\n",
    "ax.legend();"
   ]
  },
  {
   "cell_type": "code",
   "execution_count": 37,
   "metadata": {},
   "outputs": [
    {
     "name": "stdout",
     "output_type": "stream",
     "text": [
      "Cross Validation Scores: 0.967 0.967 0.933 0.933 1.000\n"
     ]
    }
   ],
   "source": [
    "# checking score of data across different folds using cross_val_score\n",
    "\n",
    "cvs = cross_val_score(RandomForestClassifier(max_depth=9), X, y, cv=5)\n",
    "print('Cross Validation Scores: {:.3f} {:.3f} {:.3f} {:.3f} {:.3f}'.format(*cvs))"
   ]
  },
  {
   "cell_type": "code",
   "execution_count": 38,
   "metadata": {},
   "outputs": [
    {
     "name": "stdout",
     "output_type": "stream",
     "text": [
      "Training Score: 1.0\n",
      "Testing Score: 1.0\n"
     ]
    }
   ],
   "source": [
    "# fitting the training set in the model and appending the scores to the DataFrame\n",
    "\n",
    "clf = RandomForestClassifier(max_depth=9).fit(X_train, y_train)\n",
    "\n",
    "training_s = np.round(clf.score(X_train, y_train), 3)\n",
    "testing_s = np.round(clf.score(X_test, y_test), 3)\n",
    "\n",
    "print('Training Score: {}'.format(training_s))\n",
    "print('Testing Score: {}'.format(testing_s))\n",
    "\n",
    "scores = scores.append({'Model':'RandomForestClassifier','Training':training_s,'Testing':testing_s}, ignore_index=True)"
   ]
  },
  {
   "cell_type": "code",
   "execution_count": 39,
   "metadata": {},
   "outputs": [
    {
     "name": "stdout",
     "output_type": "stream",
     "text": [
      "              precision    recall  f1-score   support\n",
      "\n",
      "           0       1.00      1.00      1.00        10\n",
      "           1       1.00      1.00      1.00         4\n",
      "           2       1.00      1.00      1.00        16\n",
      "\n",
      "    accuracy                           1.00        30\n",
      "   macro avg       1.00      1.00      1.00        30\n",
      "weighted avg       1.00      1.00      1.00        30\n",
      "\n"
     ]
    }
   ],
   "source": [
    "# classification report of the model\n",
    "\n",
    "print(classification_report(y_test, clf.predict(X_test)))"
   ]
  },
  {
   "cell_type": "markdown",
   "metadata": {},
   "source": [
    "# 7. Gradient Boosting Classifier"
   ]
  },
  {
   "cell_type": "code",
   "execution_count": 40,
   "metadata": {},
   "outputs": [
    {
     "name": "stdout",
     "output_type": "stream",
     "text": [
      "Score: 1.000\n",
      "Best Estimator: GradientBoostingClassifier(max_depth=2)\n"
     ]
    }
   ],
   "source": [
    "# finding the best parameters using grid search\n",
    "\n",
    "param_grid = {'max_depth': [1, 2, 3, 4, 5, 6, 7, 8, 9, 10]}\n",
    "grid = GridSearchCV(GradientBoostingClassifier(), param_grid = param_grid, cv=4).fit(X_train, y_train)\n",
    "print('Score: {:.3f}'.format(grid.score(X_test, y_test)))\n",
    "print('Best Estimator: {}'.format(grid.best_estimator_))"
   ]
  },
  {
   "cell_type": "code",
   "execution_count": 41,
   "metadata": {},
   "outputs": [
    {
     "data": {
      "image/png": "[encoded data removed]",
      "text/plain": [
       "<Figure size 288x288 with 1 Axes>"
      ]
     },
     "metadata": {
      "needs_background": "light"
     },
     "output_type": "display_data"
    }
   ],
   "source": [
    "# visualization of effect of the parameter\n",
    "\n",
    "fig = plt.figure(figsize=(4, 4))\n",
    "\n",
    "param = [1, 2, 3, 4, 5, 6, 7, 8, 9, 10]\n",
    "x = np.linspace(0,9,10)\n",
    "\n",
    "ax = fig.add_axes([1,1,1.1,1.1])\n",
    "ax.set_xticks(x)\n",
    "ax.set_xticklabels(param)\n",
    "\n",
    "test_score = np.array([])\n",
    "train_score = np.array([])\n",
    "for i in param:\n",
    "    clf = GradientBoostingClassifier(max_depth=i).fit(X_train, y_train)\n",
    "    train_score = np.append(train_score, clf.score(X_train, y_train))\n",
    "    test_score = np.append(test_score, clf.score(X_test, y_test))\n",
    "\n",
    "ax.plot(x, train_score, label='Train Score')\n",
    "ax.plot(x, test_score, label='Test Score')\n",
    "ax.set_title('Gradient Boosting Classifier')\n",
    "ax.legend();"
   ]
  },
  {
   "cell_type": "code",
   "execution_count": 42,
   "metadata": {},
   "outputs": [
    {
     "name": "stdout",
     "output_type": "stream",
     "text": [
      "Cross Validation Scores: 0.967 0.967 0.900 0.933 1.000\n"
     ]
    }
   ],
   "source": [
    "# checking score of data across different folds using cross_val_score\n",
    "\n",
    "cvs = cross_val_score(GradientBoostingClassifier(max_depth=2), X, y, cv=5)\n",
    "print('Cross Validation Scores: {:.3f} {:.3f} {:.3f} {:.3f} {:.3f}'.format(*cvs))"
   ]
  },
  {
   "cell_type": "code",
   "execution_count": 43,
   "metadata": {},
   "outputs": [
    {
     "name": "stdout",
     "output_type": "stream",
     "text": [
      "Training Score: 1.0\n",
      "Testing Score: 1.0\n"
     ]
    }
   ],
   "source": [
    "# fitting the training set in the model and appending the scores to the DataFrame\n",
    "\n",
    "clf = GradientBoostingClassifier(max_depth=2).fit(X_train, y_train)\n",
    "\n",
    "training_s = np.round(clf.score(X_train, y_train), 3)\n",
    "testing_s = np.round(clf.score(X_test, y_test), 3)\n",
    "\n",
    "print('Training Score: {}'.format(training_s))\n",
    "print('Testing Score: {}'.format(testing_s))\n",
    "\n",
    "scores = scores.append({'Model':'GradientBoostingClassifier','Training':training_s,'Testing':testing_s}, ignore_index=True)"
   ]
  },
  {
   "cell_type": "code",
   "execution_count": 44,
   "metadata": {},
   "outputs": [
    {
     "name": "stdout",
     "output_type": "stream",
     "text": [
      "              precision    recall  f1-score   support\n",
      "\n",
      "           0       1.00      1.00      1.00        10\n",
      "           1       1.00      1.00      1.00         4\n",
      "           2       1.00      1.00      1.00        16\n",
      "\n",
      "    accuracy                           1.00        30\n",
      "   macro avg       1.00      1.00      1.00        30\n",
      "weighted avg       1.00      1.00      1.00        30\n",
      "\n"
     ]
    }
   ],
   "source": [
    "# classification report of the model\n",
    "\n",
    "print(classification_report(y_test, clf.predict(X_test)))"
   ]
  },
  {
   "cell_type": "markdown",
   "metadata": {},
   "source": [
    "# 8. Multilayer Perceptron Classifier (Neural Networks)"
   ]
  },
  {
   "cell_type": "code",
   "execution_count": 45,
   "metadata": {},
   "outputs": [
    {
     "name": "stdout",
     "output_type": "stream",
     "text": [
      "Score: 1.000\n",
      "Best Estimator: MLPClassifier(alpha=1, hidden_layer_sizes=[5, 5], max_iter=1000, solver='lbfgs')\n"
     ]
    }
   ],
   "source": [
    "# finding the best parameters using grid search\n",
    "\n",
    "param_grid = {'hidden_layer_sizes': [[5], [10], [5,5], [10,10]], 'alpha': [0.01, 0.1, 1, 10]}\n",
    "grid = GridSearchCV(MLPClassifier(solver='lbfgs', max_iter=1000), param_grid = param_grid, cv=3).fit(X_train, y_train)\n",
    "print('Score: {:.3f}'.format(grid.score(X_test, y_test)))\n",
    "print('Best Estimator: {}'.format(grid.best_estimator_))"
   ]
  },
  {
   "cell_type": "code",
   "execution_count": 46,
   "metadata": {},
   "outputs": [
    {
     "name": "stdout",
     "output_type": "stream",
     "text": [
      "Cross Validation Scores: 0.967 1.000 0.967 0.967 1.000\n"
     ]
    }
   ],
   "source": [
    "# checking score of data across different folds using cross_val_score\n",
    "\n",
    "cvs = cross_val_score(MLPClassifier(alpha=1, hidden_layer_sizes=[5,5], max_iter=1000, solver='lbfgs'), X, y, cv=5)\n",
    "print('Cross Validation Scores: {:.3f} {:.3f} {:.3f} {:.3f} {:.3f}'.format(*cvs))"
   ]
  },
  {
   "cell_type": "code",
   "execution_count": 47,
   "metadata": {},
   "outputs": [
    {
     "name": "stdout",
     "output_type": "stream",
     "text": [
      "Training Score: 0.983\n",
      "Testing Score: 1.0\n"
     ]
    }
   ],
   "source": [
    "# fitting the training set in the model and appending the scores to the DataFrame\n",
    "\n",
    "clf = MLPClassifier(alpha=1, hidden_layer_sizes=[5,5], max_iter=1000, solver='lbfgs').fit(X_train, y_train)\n",
    "\n",
    "training_s = np.round(clf.score(X_train, y_train), 3)\n",
    "testing_s = np.round(clf.score(X_test, y_test), 3)\n",
    "\n",
    "print('Training Score: {}'.format(training_s))\n",
    "print('Testing Score: {}'.format(testing_s))\n",
    "\n",
    "scores = scores.append({'Model':'MLPClassifier','Training':training_s,'Testing':testing_s}, ignore_index=True)"
   ]
  },
  {
   "cell_type": "code",
   "execution_count": 48,
   "metadata": {},
   "outputs": [
    {
     "name": "stdout",
     "output_type": "stream",
     "text": [
      "              precision    recall  f1-score   support\n",
      "\n",
      "           0       1.00      1.00      1.00        10\n",
      "           1       1.00      1.00      1.00         4\n",
      "           2       1.00      1.00      1.00        16\n",
      "\n",
      "    accuracy                           1.00        30\n",
      "   macro avg       1.00      1.00      1.00        30\n",
      "weighted avg       1.00      1.00      1.00        30\n",
      "\n"
     ]
    }
   ],
   "source": [
    "# classification report of the model\n",
    "\n",
    "print(classification_report(y_test, clf.predict(X_test)))"
   ]
  },
  {
   "cell_type": "markdown",
   "metadata": {},
   "source": [
    "# Performance Comparison"
   ]
  },
  {
   "cell_type": "code",
   "execution_count": 75,
   "metadata": {},
   "outputs": [
    {
     "data": {
      "text/html": [
       "<div>\n",
       "<style scoped>\n",
       "    .dataframe tbody tr th:only-of-type {\n",
       "        vertical-align: middle;\n",
       "    }\n",
       "\n",
       "    .dataframe tbody tr th {\n",
       "        vertical-align: top;\n",
       "    }\n",
       "\n",
       "    .dataframe thead th {\n",
       "        text-align: right;\n",
       "    }\n",
       "</style>\n",
       "<table border=\"1\" class=\"dataframe\">\n",
       "  <thead>\n",
       "    <tr style=\"text-align: right;\">\n",
       "      <th></th>\n",
       "      <th>Model</th>\n",
       "      <th>Training</th>\n",
       "      <th>Testing</th>\n",
       "    </tr>\n",
       "  </thead>\n",
       "  <tbody>\n",
       "    <tr>\n",
       "      <th>5</th>\n",
       "      <td>RandomForestClassifier</td>\n",
       "      <td>1.000</td>\n",
       "      <td>1.000</td>\n",
       "    </tr>\n",
       "    <tr>\n",
       "      <th>6</th>\n",
       "      <td>GradientBoostingClassifier</td>\n",
       "      <td>1.000</td>\n",
       "      <td>1.000</td>\n",
       "    </tr>\n",
       "    <tr>\n",
       "      <th>0</th>\n",
       "      <td>LogisticRegression</td>\n",
       "      <td>0.983</td>\n",
       "      <td>1.000</td>\n",
       "    </tr>\n",
       "    <tr>\n",
       "      <th>7</th>\n",
       "      <td>MLPClassifier</td>\n",
       "      <td>0.983</td>\n",
       "      <td>1.000</td>\n",
       "    </tr>\n",
       "    <tr>\n",
       "      <th>1</th>\n",
       "      <td>GaussianNB</td>\n",
       "      <td>0.950</td>\n",
       "      <td>1.000</td>\n",
       "    </tr>\n",
       "    <tr>\n",
       "      <th>2</th>\n",
       "      <td>KNeighborsClassifier</td>\n",
       "      <td>0.967</td>\n",
       "      <td>0.967</td>\n",
       "    </tr>\n",
       "    <tr>\n",
       "      <th>3</th>\n",
       "      <td>SVC</td>\n",
       "      <td>0.958</td>\n",
       "      <td>0.967</td>\n",
       "    </tr>\n",
       "    <tr>\n",
       "      <th>4</th>\n",
       "      <td>DecisionTreeClassifier</td>\n",
       "      <td>0.950</td>\n",
       "      <td>0.967</td>\n",
       "    </tr>\n",
       "  </tbody>\n",
       "</table>\n",
       "</div>"
      ],
      "text/plain": [
       "                        Model  Training  Testing\n",
       "5      RandomForestClassifier     1.000    1.000\n",
       "6  GradientBoostingClassifier     1.000    1.000\n",
       "0          LogisticRegression     0.983    1.000\n",
       "7               MLPClassifier     0.983    1.000\n",
       "1                  GaussianNB     0.950    1.000\n",
       "2        KNeighborsClassifier     0.967    0.967\n",
       "3                         SVC     0.958    0.967\n",
       "4      DecisionTreeClassifier     0.950    0.967"
      ]
     },
     "execution_count": 75,
     "metadata": {},
     "output_type": "execute_result"
    }
   ],
   "source": [
    "# best to worst model performance\n",
    "\n",
    "scores = scores.reindex(scores.mean(axis=1).sort_values()[::-1].index)\n",
    "scores"
   ]
  },
  {
   "cell_type": "code",
   "execution_count": 77,
   "metadata": {},
   "outputs": [
    {
     "data": {
      "image/png": "[encoded data removed]",
      "text/plain": [
       "<Figure size 576x576 with 1 Axes>"
      ]
     },
     "metadata": {
      "needs_background": "light"
     },
     "output_type": "display_data"
    }
   ],
   "source": [
    "# plot of respective models\n",
    "\n",
    "plt.figure(figsize=(8,8))\n",
    "plt.plot(scores['Model'], scores['Training'], label='Train Score')\n",
    "plt.plot(scores['Model'], scores['Testing'], label='Test Score')\n",
    "plt.tick_params(axis='x', rotation=45)"
   ]
  },
  {
   "cell_type": "markdown",
   "metadata": {},
   "source": [
    "# Conslusion"
   ]
  },
  {
   "cell_type": "markdown",
   "metadata": {},
   "source": [
    "#### - We can observe that the RandomForestClassifier and GradientBoostingClassifier fits the data very well resulting in a good performance.\n",
    "#### - The LogisticRegression and MLPClassifier fits the data quite good as well but not as good as RandomForest and GradientBoosting\n",
    "#### - However, GaussianNBClassifier, KNeighborsClassifier, SVC and DecisionTreeClassifier does not fit the data equally as good.\n",
    "<br>\n",
    "\n",
    "### The best model to use for this dataset would be LogisticRegression if considering the time taken to train the model, and RandomForestClassifier/GradientBoostingClassifier if complexity can be compromised but best results are required."
   ]
  },
  {
   "cell_type": "code",
   "execution_count": null,
   "metadata": {},
   "outputs": [],
   "source": []
  }
 ],
 "metadata": {
  "kernelspec": {
   "display_name": "Python 3",
   "language": "python",
   "name": "python3"
  },
  "language_info": {
   "codemirror_mode": {
    "name": "ipython",
    "version": 3
   },
   "file_extension": ".py",
   "mimetype": "text/x-python",
   "name": "python",
   "nbconvert_exporter": "python",
   "pygments_lexer": "ipython3",
   "version": "3.8.5"
  }
 },
 "nbformat": 4,
 "nbformat_minor": 4
}
